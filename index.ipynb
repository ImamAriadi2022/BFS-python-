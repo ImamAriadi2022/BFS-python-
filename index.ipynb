{
 "cells": [
  {
   "cell_type": "code",
   "execution_count": null,
   "metadata": {},
   "outputs": [],
   "source": [
    "peta = { 'A' : set (['B', 'H'])\n",
    "        'B' : set {['A', 'C', 'H']}\n",
    "        'C' : set {['B', 'D', 'E']}\n",
    "        'D' : set {['C', 'E'],'F','G','H'}\n",
    "        'E' : set {['C', 'D']}\n",
    "        'F' : set {['D', 'G']}\n",
    "        'G' : set {['F', 'D', 'H']}\n",
    "        'H' : set {['A','B', 'D','G']}\n",
    "        }\n",
    "\n",
    "def bfs_lintasan_terpendek(peta, mulai, tujuan):\n",
    "    explored = []\n",
    "    queue = [{mulai}]\n",
    "    if mulai == tujuan :\n",
    "        return \"awal adalah tujuan\"\n",
    "    \n",
    "    while queue :\n",
    "        jalur = queue.pop(0)\n",
    "        node = jalur queue.pop(0)\n",
    "        node = jalur [-1]\n",
    "        \n",
    "        if node not in explored :\n",
    "            neighbours = peta[node]\n",
    "\n",
    "            for neighbour in neighbours :\n",
    "                jalur_baru = list(jalur)\n",
    "                jalur_baru.append(neighbour)\n",
    "                queue.append(jalur_baru)\n",
    "                \n",
    "                if neighbour == tujuan:\n",
    "                    return jalur_baru\n",
    "\n",
    "            explored.append(node)\n",
    "\n",
    "    return \"Tidak ditemukan\"\n",
    "\n",
    "print(bfs_lintasan_terpendek(peta, 'A', 'H'))"
   ]
  }
 ],
 "metadata": {
  "language_info": {
   "name": "python"
  }
 },
 "nbformat": 4,
 "nbformat_minor": 2
}
